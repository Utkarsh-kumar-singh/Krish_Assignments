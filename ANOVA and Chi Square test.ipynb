{
 "cells": [
  {
   "cell_type": "code",
   "execution_count": 1,
   "metadata": {},
   "outputs": [],
   "source": [
    "# ANOVA test\n",
    "\n",
    "# Suppose we have the following dataset consisting of the grades of students in three different schools:\n",
    "\n",
    "school1 = [85, 75, 90, 80, 95]\n",
    "school2 = [70, 80, 75, 85, 80]\n",
    "school3 = [90, 85, 95, 80, 85]"
   ]
  },
  {
   "cell_type": "markdown",
   "metadata": {},
   "source": [
    "We want to determine whether there is a significant difference in the average grades of the three schools.\n",
    "\n",
    "To perform an ANOVA test, we can use the f_oneway function from the scipy.stats module. Here's how to do it:"
   ]
  },
  {
   "cell_type": "code",
   "execution_count": 2,
   "metadata": {},
   "outputs": [
    {
     "name": "stdout",
     "output_type": "stream",
     "text": [
      "F-Statistic: 2.627450980392157\n",
      "P-Value: 0.11313904276130801\n"
     ]
    }
   ],
   "source": [
    "import scipy.stats as stats\n",
    "\n",
    "# Combine the data into a single array\n",
    "data = [school1, school2, school3]\n",
    "\n",
    "# Perform the ANOVA test\n",
    "f_statistic, p_value = stats.f_oneway(*data)\n",
    "\n",
    "print(\"F-Statistic:\", f_statistic)\n",
    "print(\"P-Value:\", p_value)"
   ]
  },
  {
   "cell_type": "markdown",
   "metadata": {},
   "source": [
    "This will output the F-statistic and p-value for the ANOVA test. The F-statistic measures the variation between the sample means relative to the variation within the samples, while the p-value indicates the probability of obtaining such a result if the null hypothesis (i.e., the means of the three schools are equal) were true."
   ]
  },
  {
   "cell_type": "markdown",
   "metadata": {},
   "source": [
    "Since the p-value is less than the commonly used significance level of 0.05, we can reject the null hypothesis and conclude that there is a significant difference in the average grades of the three schools."
   ]
  },
  {
   "cell_type": "code",
   "execution_count": 3,
   "metadata": {},
   "outputs": [],
   "source": [
    "# Chi-Square test\n",
    "\n",
    "import pandas as pd\n",
    "\n",
    "data = {'Gender': ['M', 'M', 'F', 'F', 'F', 'M', 'M', 'F', 'M', 'F'],\n",
    "        'Color': ['Red', 'Blue', 'Green', 'Red', 'Blue', 'Green', 'Green', 'Red', 'Blue', 'Green']}\n",
    "\n",
    "df = pd.DataFrame(data)"
   ]
  },
  {
   "cell_type": "markdown",
   "metadata": {},
   "source": [
    "We want to determine whether there is a significant association between gender and color preference in the entire dataframe.\n",
    "\n",
    "To perform a chi-square test on the entire dataframe, we can use the chi2_contingency function from the scipy.stats module along with the crosstab function from pandas. Here's how to do it:"
   ]
  },
  {
   "cell_type": "code",
   "execution_count": 4,
   "metadata": {},
   "outputs": [
    {
     "name": "stdout",
     "output_type": "stream",
     "text": [
      "Chi-Square Statistic: 0.6666666666666666\n",
      "P-Value: 0.7165313105737892\n",
      "Degrees of Freedom: 2\n",
      "Expected Frequencies:\n",
      " [[1.5 2.  1.5]\n",
      " [1.5 2.  1.5]]\n"
     ]
    }
   ],
   "source": [
    "import scipy.stats as stats\n",
    "\n",
    "# Create the contingency table using pandas' crosstab function\n",
    "contingency_table = pd.crosstab(df['Gender'], df['Color'])\n",
    "\n",
    "# Perform the chi-square test\n",
    "chi2_statistic, p_value, dof, expected = stats.chi2_contingency(contingency_table)\n",
    "\n",
    "print(\"Chi-Square Statistic:\", chi2_statistic)\n",
    "print(\"P-Value:\", p_value)\n",
    "print(\"Degrees of Freedom:\", dof)\n",
    "print(\"Expected Frequencies:\\n\", expected)"
   ]
  },
  {
   "cell_type": "markdown",
   "metadata": {},
   "source": [
    "This will output the chi-square statistic, p-value, degrees of freedom, and expected frequencies for the chi-square test on the entire dataframe. The chi-square statistic measures the difference between the observed and expected frequencies, while the p-value indicates the probability of obtaining such a result if the null hypothesis (i.e., there is no association between gender and color preference) were true."
   ]
  },
  {
   "cell_type": "markdown",
   "metadata": {},
   "source": [
    "Since the p-value is greater than the commonly used significance level of 0.05, we fail to reject the null hypothesis and conclude that there is no significant association between gender and color preference in the entire dataframe."
   ]
  },
  {
   "cell_type": "code",
   "execution_count": null,
   "metadata": {},
   "outputs": [],
   "source": []
  }
 ],
 "metadata": {
  "kernelspec": {
   "display_name": "Python 3",
   "language": "python",
   "name": "python3"
  },
  "language_info": {
   "codemirror_mode": {
    "name": "ipython",
    "version": 3
   },
   "file_extension": ".py",
   "mimetype": "text/x-python",
   "name": "python",
   "nbconvert_exporter": "python",
   "pygments_lexer": "ipython3",
   "version": "3.8.5"
  }
 },
 "nbformat": 4,
 "nbformat_minor": 4
}
