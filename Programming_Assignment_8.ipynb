{
  "cells": [
    {
      "cell_type": "markdown",
      "id": "9b304197",
      "metadata": {
        "id": "9b304197"
      },
      "source": [
        "# Python Basic Programming Assignment 8"
      ]
    },
    {
      "cell_type": "markdown",
      "id": "22789ae6",
      "metadata": {
        "id": "22789ae6"
      },
      "source": [
        "### 1. Write a Python Program to Add Two Matrices?"
      ]
    },
    {
      "cell_type": "markdown",
      "id": "044ceda6",
      "metadata": {
        "id": "044ceda6"
      },
      "source": [
        "### 2. Write a Python Program to Multiply Two Matrices?"
      ]
    },
    {
      "cell_type": "markdown",
      "id": "5f688e46",
      "metadata": {
        "id": "5f688e46"
      },
      "source": [
        "### 3. Write a Python Program to Transpose a Matrix?"
      ]
    },
    {
      "cell_type": "markdown",
      "id": "b2849025",
      "metadata": {
        "id": "b2849025"
      },
      "source": [
        "\n",
        "### 4. Write a Python Program to Sort Words in Alphabetic Order?\n"
      ]
    },
    {
      "cell_type": "markdown",
      "id": "48ac7b24",
      "metadata": {
        "id": "48ac7b24"
      },
      "source": [
        "### 5. Write a Python Program to Remove Punctuation From a String?"
      ]
    },
    {
      "cell_type": "code",
      "source": [
        "# Ans 1 -\n",
        "def add_matrices(matrix1, matrix2):\n",
        "    # Check if the dimensions of the matrices are the same\n",
        "    if len(matrix1) != len(matrix2) or len(matrix1[0]) != len(matrix2[0]):\n",
        "        print(\"Error: Matrices must have the same dimensions for addition.\")\n",
        "        return None\n",
        "\n",
        "    # Initialize an empty result matrix\n",
        "    result = []\n",
        "    rows = len(matrix1)\n",
        "    cols = len(matrix1[0])\n",
        "\n",
        "    # Perform element-wise addition of the matrices\n",
        "    for i in range(rows):\n",
        "        row = []\n",
        "        for j in range(cols):\n",
        "            element_sum = matrix1[i][j] + matrix2[i][j]\n",
        "            row.append(element_sum)\n",
        "        result.append(row)\n",
        "\n",
        "    return result\n",
        "\n",
        "# Example matrices for testing\n",
        "matrix1 = [[1, 2, 3],\n",
        "           [4, 5, 6],\n",
        "           [7, 8, 9]]\n",
        "\n",
        "matrix2 = [[9, 8, 7],\n",
        "           [6, 5, 4],\n",
        "           [3, 2, 1]]\n",
        "\n",
        "# Add the matrices\n",
        "result = add_matrices(matrix1, matrix2)\n",
        "\n",
        "# Print the result\n",
        "if result:\n",
        "    print(\"Matrix1:\")\n",
        "    for row in matrix1:\n",
        "        print(row)\n",
        "\n",
        "    print(\"\\nMatrix2:\")\n",
        "    for row in matrix2:\n",
        "        print(row)\n",
        "\n",
        "    print(\"\\nSum of the matrices:\")\n",
        "    for row in result:\n",
        "        print(row)\n"
      ],
      "metadata": {
        "id": "zJE-nsJFPdIN",
        "outputId": "0a9e4260-b3d6-4464-eb5c-2f97c6867a30",
        "colab": {
          "base_uri": "https://localhost:8080/"
        }
      },
      "id": "zJE-nsJFPdIN",
      "execution_count": 1,
      "outputs": [
        {
          "output_type": "stream",
          "name": "stdout",
          "text": [
            "Matrix1:\n",
            "[1, 2, 3]\n",
            "[4, 5, 6]\n",
            "[7, 8, 9]\n",
            "\n",
            "Matrix2:\n",
            "[9, 8, 7]\n",
            "[6, 5, 4]\n",
            "[3, 2, 1]\n",
            "\n",
            "Sum of the matrices:\n",
            "[10, 10, 10]\n",
            "[10, 10, 10]\n",
            "[10, 10, 10]\n"
          ]
        }
      ]
    },
    {
      "cell_type": "code",
      "source": [
        "# Ans 2 - \n",
        "def multiply_matrices(matrix1, matrix2):\n",
        "    # Check if the dimensions of the matrices are compatible for multiplication\n",
        "    if len(matrix1[0]) != len(matrix2):\n",
        "        print(\"Error: The number of columns in the first matrix must be equal to the number of rows in the second matrix.\")\n",
        "        return None\n",
        "\n",
        "    # Initialize an empty result matrix\n",
        "    result = []\n",
        "    rows = len(matrix1)\n",
        "    cols = len(matrix2[0])\n",
        "    common_dim = len(matrix1[0])\n",
        "\n",
        "    # Perform matrix multiplication\n",
        "    for i in range(rows):\n",
        "        row = []\n",
        "        for j in range(cols):\n",
        "            element_sum = 0\n",
        "            for k in range(common_dim):\n",
        "                element_sum += matrix1[i][k] * matrix2[k][j]\n",
        "            row.append(element_sum)\n",
        "        result.append(row)\n",
        "\n",
        "    return result\n",
        "\n",
        "# Example matrices for testing\n",
        "matrix1 = [[1, 2, 3],\n",
        "           [4, 5, 6]]\n",
        "\n",
        "matrix2 = [[7, 8],\n",
        "           [9, 10],\n",
        "           [11, 12]]\n",
        "\n",
        "# Multiply the matrices\n",
        "result = multiply_matrices(matrix1, matrix2)\n",
        "\n",
        "# Print the result\n",
        "if result:\n",
        "    print(\"Matrix1:\")\n",
        "    for row in matrix1:\n",
        "        print(row)\n",
        "\n",
        "    print(\"\\nMatrix2:\")\n",
        "    for row in matrix2:\n",
        "        print(row)\n",
        "\n",
        "    print(\"\\nProduct of the matrices:\")\n",
        "    for row in result:\n",
        "        print(row)\n"
      ],
      "metadata": {
        "id": "-RtzdQxsPkU6",
        "outputId": "9ee627ce-d39f-4daf-c2af-1b9583f37d74",
        "colab": {
          "base_uri": "https://localhost:8080/"
        }
      },
      "id": "-RtzdQxsPkU6",
      "execution_count": 2,
      "outputs": [
        {
          "output_type": "stream",
          "name": "stdout",
          "text": [
            "Matrix1:\n",
            "[1, 2, 3]\n",
            "[4, 5, 6]\n",
            "\n",
            "Matrix2:\n",
            "[7, 8]\n",
            "[9, 10]\n",
            "[11, 12]\n",
            "\n",
            "Product of the matrices:\n",
            "[58, 64]\n",
            "[139, 154]\n"
          ]
        }
      ]
    },
    {
      "cell_type": "code",
      "source": [
        "# Ans 3 - \n",
        "# Example matrix for testing\n",
        "matrix = [[1, 2, 3],\n",
        "          [4, 5, 6],\n",
        "          [7, 8, 9]]\n",
        "\n",
        "# Get the number of rows and columns in the matrix\n",
        "rows = len(matrix)\n",
        "cols = len(matrix[0])\n",
        "\n",
        "# Initialize an empty transposed matrix\n",
        "transpose = [[0 for _ in range(rows)] for _ in range(cols)]\n",
        "\n",
        "# Perform matrix transposition\n",
        "for i in range(rows):\n",
        "    for j in range(cols):\n",
        "        transpose[j][i] = matrix[i][j]\n",
        "\n",
        "# Print the original matrix\n",
        "print(\"Original Matrix:\")\n",
        "for row in matrix:\n",
        "    print(row)\n",
        "\n",
        "# Print the transposed matrix\n",
        "print(\"\\nTransposed Matrix:\")\n",
        "for row in transpose:\n",
        "    print(row)\n"
      ],
      "metadata": {
        "id": "qWF6T9kdP20Y",
        "outputId": "2be78613-7ce1-453f-f64b-04b376c3d175",
        "colab": {
          "base_uri": "https://localhost:8080/"
        }
      },
      "id": "qWF6T9kdP20Y",
      "execution_count": 3,
      "outputs": [
        {
          "output_type": "stream",
          "name": "stdout",
          "text": [
            "Original Matrix:\n",
            "[1, 2, 3]\n",
            "[4, 5, 6]\n",
            "[7, 8, 9]\n",
            "\n",
            "Transposed Matrix:\n",
            "[1, 4, 7]\n",
            "[2, 5, 8]\n",
            "[3, 6, 9]\n"
          ]
        }
      ]
    },
    {
      "cell_type": "code",
      "source": [
        "# Ans 4 - \n",
        "# Take input from the user\n",
        "sentence = input(\"Enter a sentence: \")\n",
        "\n",
        "# Split the sentence into words\n",
        "words = sentence.split()\n",
        "\n",
        "# Sort the words in alphabetical order\n",
        "sorted_words = sorted(words)\n",
        "\n",
        "# Print the sorted words\n",
        "print(\"Words in alphabetical order:\")\n",
        "for word in sorted_words:\n",
        "    print(word)\n"
      ],
      "metadata": {
        "id": "4Mocq-3AQDjK",
        "outputId": "0bce65f5-e1e8-4c51-ae51-4376b891eb37",
        "colab": {
          "base_uri": "https://localhost:8080/"
        }
      },
      "id": "4Mocq-3AQDjK",
      "execution_count": 4,
      "outputs": [
        {
          "output_type": "stream",
          "name": "stdout",
          "text": [
            "Enter a sentence: sd\n",
            "Words in alphabetical order:\n",
            "sd\n"
          ]
        }
      ]
    },
    {
      "cell_type": "code",
      "source": [
        "#Ans 5 - \n",
        "import string\n",
        "\n",
        "# Take input from the user\n",
        "sentence = input(\"Enter a sentence: \")\n",
        "\n",
        "# Remove punctuation from the string\n",
        "cleaned_sentence = sentence.translate(str.maketrans(\"\", \"\", string.punctuation))\n",
        "\n",
        "# Print the cleaned sentence\n",
        "print(\"Sentence without punctuation:\", cleaned_sentence)\n"
      ],
      "metadata": {
        "id": "188D2k4JQLzW",
        "outputId": "231d9a5b-7326-4539-da74-2237a026f4b9",
        "colab": {
          "base_uri": "https://localhost:8080/"
        }
      },
      "id": "188D2k4JQLzW",
      "execution_count": 5,
      "outputs": [
        {
          "output_type": "stream",
          "name": "stdout",
          "text": [
            "Enter a sentence: dawda\n",
            "Sentence without punctuation: dawda\n"
          ]
        }
      ]
    },
    {
      "cell_type": "code",
      "source": [],
      "metadata": {
        "id": "RQ3GJFeYQYyS"
      },
      "id": "RQ3GJFeYQYyS",
      "execution_count": null,
      "outputs": []
    }
  ],
  "metadata": {
    "kernelspec": {
      "display_name": "Python 3 (ipykernel)",
      "language": "python",
      "name": "python3"
    },
    "language_info": {
      "codemirror_mode": {
        "name": "ipython",
        "version": 3
      },
      "file_extension": ".py",
      "mimetype": "text/x-python",
      "name": "python",
      "nbconvert_exporter": "python",
      "pygments_lexer": "ipython3",
      "version": "3.9.12"
    },
    "colab": {
      "provenance": []
    }
  },
  "nbformat": 4,
  "nbformat_minor": 5
}