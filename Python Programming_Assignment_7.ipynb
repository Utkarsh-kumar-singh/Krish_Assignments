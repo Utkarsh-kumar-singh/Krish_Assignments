{
  "cells": [
    {
      "cell_type": "markdown",
      "id": "35297a20",
      "metadata": {
        "id": "35297a20"
      },
      "source": [
        "## Programming Basic Assignment 7"
      ]
    },
    {
      "cell_type": "markdown",
      "id": "27349114",
      "metadata": {
        "id": "27349114"
      },
      "source": [
        "### 1. Write a Python Program to find sum of array?"
      ]
    },
    {
      "cell_type": "markdown",
      "id": "171a980d",
      "metadata": {
        "id": "171a980d"
      },
      "source": [
        "### 2. Write a Python Program to find largest element in an array?\n"
      ]
    },
    {
      "cell_type": "markdown",
      "id": "21613246",
      "metadata": {
        "id": "21613246"
      },
      "source": [
        "### 3. Write a Python Program for array rotation?"
      ]
    },
    {
      "cell_type": "markdown",
      "id": "3e52d939",
      "metadata": {
        "id": "3e52d939"
      },
      "source": [
        "### 4. Write a Python Program to Split the array and add the first part to the end?"
      ]
    },
    {
      "cell_type": "markdown",
      "id": "aa375779",
      "metadata": {
        "id": "aa375779"
      },
      "source": [
        "### 5. Write a Python Program to check if given array is Monotonic?"
      ]
    },
    {
      "cell_type": "code",
      "source": [
        "# Ans 1 - \n",
        "def find_sum(arr):\n",
        "    sum = 0\n",
        "    for num in arr:\n",
        "        sum += num\n",
        "    return sum\n",
        "\n",
        "# Example usage\n",
        "array = [1, 2, 3, 4, 5]\n",
        "array_sum = find_sum(array)\n",
        "print(\"Sum of the array:\", array_sum)\n"
      ],
      "metadata": {
        "id": "KgEpfYEbE4_Y",
        "outputId": "6853ded1-3748-44c7-beb4-89a4a7ec9caf",
        "colab": {
          "base_uri": "https://localhost:8080/"
        }
      },
      "id": "KgEpfYEbE4_Y",
      "execution_count": 1,
      "outputs": [
        {
          "output_type": "stream",
          "name": "stdout",
          "text": [
            "Sum of the array: 15\n"
          ]
        }
      ]
    },
    {
      "cell_type": "code",
      "source": [
        "# Ans 2 - \n",
        "def find_largest(arr):\n",
        "    largest = arr[0]\n",
        "    for num in arr:\n",
        "        if num > largest:\n",
        "            largest = num\n",
        "    return largest\n",
        "\n",
        "# Example usage\n",
        "array = [10, 5, 20, 8, 15]\n",
        "largest_element = find_largest(array)\n",
        "print(\"Largest element in the array:\", largest_element)\n"
      ],
      "metadata": {
        "id": "HHEdmUd0FGbZ",
        "outputId": "7e609687-c709-4eb9-a15f-dfbebe9b2dba",
        "colab": {
          "base_uri": "https://localhost:8080/"
        }
      },
      "id": "HHEdmUd0FGbZ",
      "execution_count": 2,
      "outputs": [
        {
          "output_type": "stream",
          "name": "stdout",
          "text": [
            "Largest element in the array: 20\n"
          ]
        }
      ]
    },
    {
      "cell_type": "code",
      "source": [
        "# Ans 3 -\n",
        "def rotate_array(arr, k):\n",
        "    n = len(arr)\n",
        "    k = k % n  # Adjusting k to handle cases where k > n\n",
        "    \n",
        "    # Rotating the array using slicing\n",
        "    rotated_arr = arr[n-k:] + arr[:n-k]\n",
        "    \n",
        "    return rotated_arr\n",
        "\n",
        "# Example usage\n",
        "array = [1, 2, 3, 4, 5]\n",
        "rotation_count = 2\n",
        "rotated_array = rotate_array(array, rotation_count)\n",
        "print(\"Rotated array:\", rotated_array)\n"
      ],
      "metadata": {
        "id": "knjtgOIgFVSk",
        "outputId": "bce8b9a9-1dba-4838-ba46-eff36a8de09d",
        "colab": {
          "base_uri": "https://localhost:8080/"
        }
      },
      "id": "knjtgOIgFVSk",
      "execution_count": 3,
      "outputs": [
        {
          "output_type": "stream",
          "name": "stdout",
          "text": [
            "Rotated array: [4, 5, 1, 2, 3]\n"
          ]
        }
      ]
    },
    {
      "cell_type": "code",
      "source": [
        "# Ans 4 - \n",
        "def split_and_add(arr, split_index):\n",
        "    if split_index >= len(arr):\n",
        "        return arr\n",
        "    \n",
        "    split_part = arr[:split_index]\n",
        "    remaining_part = arr[split_index:]\n",
        "    \n",
        "    rotated_arr = remaining_part + split_part\n",
        "    \n",
        "    return rotated_arr\n",
        "\n",
        "# Example usage\n",
        "array = [1, 2, 3, 4, 5]\n",
        "split_index = 2\n",
        "rotated_array = split_and_add(array, split_index)\n",
        "print(\"Rotated array:\", rotated_array)\n"
      ],
      "metadata": {
        "id": "r-r9cqlQFznC",
        "outputId": "98a9e751-2c37-40a3-ab24-8de1827449ec",
        "colab": {
          "base_uri": "https://localhost:8080/"
        }
      },
      "id": "r-r9cqlQFznC",
      "execution_count": 4,
      "outputs": [
        {
          "output_type": "stream",
          "name": "stdout",
          "text": [
            "Rotated array: [3, 4, 5, 1, 2]\n"
          ]
        }
      ]
    },
    {
      "cell_type": "code",
      "source": [
        "# Ans 5 -\n",
        "def is_monotonic(arr):\n",
        "    increasing = decreasing = True\n",
        "\n",
        "    for i in range(1, len(arr)):\n",
        "        if arr[i] < arr[i-1]:\n",
        "            increasing = False\n",
        "        if arr[i] > arr[i-1]:\n",
        "            decreasing = False\n",
        "    \n",
        "    return increasing or decreasing\n",
        "\n",
        "# Example usage\n",
        "array1 = [1, 2, 3, 4, 5]\n",
        "array2 = [5, 4, 3, 2, 1]\n",
        "array3 = [1, 3, 2, 4, 5]\n",
        "\n",
        "print(\"Array1 is monotonic:\", is_monotonic(array1))\n",
        "print(\"Array2 is monotonic:\", is_monotonic(array2))\n",
        "print(\"Array3 is monotonic:\", is_monotonic(array3))\n"
      ],
      "metadata": {
        "id": "B5YogbVhF9o3",
        "outputId": "e7bb9e77-c33b-434e-dbdf-6260a0e3923f",
        "colab": {
          "base_uri": "https://localhost:8080/"
        }
      },
      "id": "B5YogbVhF9o3",
      "execution_count": 5,
      "outputs": [
        {
          "output_type": "stream",
          "name": "stdout",
          "text": [
            "Array1 is monotonic: True\n",
            "Array2 is monotonic: True\n",
            "Array3 is monotonic: False\n"
          ]
        }
      ]
    },
    {
      "cell_type": "code",
      "source": [],
      "metadata": {
        "id": "Lik1wWi0GSHy"
      },
      "id": "Lik1wWi0GSHy",
      "execution_count": null,
      "outputs": []
    }
  ],
  "metadata": {
    "kernelspec": {
      "display_name": "Python 3 (ipykernel)",
      "language": "python",
      "name": "python3"
    },
    "language_info": {
      "codemirror_mode": {
        "name": "ipython",
        "version": 3
      },
      "file_extension": ".py",
      "mimetype": "text/x-python",
      "name": "python",
      "nbconvert_exporter": "python",
      "pygments_lexer": "ipython3",
      "version": "3.9.12"
    },
    "colab": {
      "provenance": []
    }
  },
  "nbformat": 4,
  "nbformat_minor": 5
}