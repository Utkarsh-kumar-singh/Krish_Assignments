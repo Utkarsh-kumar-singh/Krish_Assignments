{
  "cells": [
    {
      "cell_type": "markdown",
      "id": "4ac9602a",
      "metadata": {
        "id": "4ac9602a"
      },
      "source": [
        "## Python Basic Programming Assignment - 5\n",
        "--------------\n"
      ]
    },
    {
      "cell_type": "markdown",
      "id": "fdaeee06",
      "metadata": {
        "id": "fdaeee06"
      },
      "source": [
        "### 1. Write a Python Program to Find LCM?"
      ]
    },
    {
      "cell_type": "markdown",
      "id": "2f459cdf",
      "metadata": {
        "id": "2f459cdf"
      },
      "source": [
        "### 2. Write a Python Program to Find HCF?"
      ]
    },
    {
      "cell_type": "markdown",
      "id": "d2c29370",
      "metadata": {
        "id": "d2c29370"
      },
      "source": [
        "### 3. Write a Python Program to Convert Decimal to Binary, Octal and Hexadecimal?"
      ]
    },
    {
      "cell_type": "markdown",
      "id": "2a16c5fd",
      "metadata": {
        "id": "2a16c5fd"
      },
      "source": [
        "### 4. Write a Python Program To Find ASCII value of a character?"
      ]
    },
    {
      "cell_type": "markdown",
      "id": "226778a0",
      "metadata": {
        "id": "226778a0"
      },
      "source": [
        "### 5. Write a Python Program to Make a Simple Calculator with 4 basic mathematical operations?"
      ]
    },
    {
      "cell_type": "code",
      "source": [
        "# Ans 1 -  \n",
        "def gcd(a, b):\n",
        "    # Calculate the greatest common divisor (GCD) using Euclid's algorithm\n",
        "    while b != 0:\n",
        "        a, b = b, a % b\n",
        "    return a\n",
        "\n",
        "def lcm(a, b):\n",
        "    # Calculate the least common multiple (LCM) using the formula: LCM = (a * b) / GCD(a, b)\n",
        "    return (a * b) // gcd(a, b)\n",
        "\n",
        "# Take input from the user\n",
        "num1 = int(input(\"Enter the first number: \"))\n",
        "num2 = int(input(\"Enter the second number: \"))\n",
        "\n",
        "# Calculate and print the LCM\n",
        "result = lcm(num1, num2)\n",
        "print(\"The LCM of\", num1, \"and\", num2, \"is\", result)\n"
      ],
      "metadata": {
        "id": "iAc0wFhyRoM9",
        "outputId": "d463582d-56d6-42cd-b07c-25484eceb288",
        "colab": {
          "base_uri": "https://localhost:8080/"
        }
      },
      "id": "iAc0wFhyRoM9",
      "execution_count": 2,
      "outputs": [
        {
          "output_type": "stream",
          "name": "stdout",
          "text": [
            "Enter the first number: 2\n",
            "Enter the second number: 2\n",
            "The LCM of 2 and 2 is 2\n"
          ]
        }
      ]
    },
    {
      "cell_type": "code",
      "source": [
        "# Ans 2 -- \n",
        "def hcf(a, b):\n",
        "    # Calculate the highest common factor (HCF) using Euclid's algorithm\n",
        "    while b != 0:\n",
        "        a, b = b, a % b\n",
        "    return a\n",
        "\n",
        "# Take input from the user\n",
        "num1 = int(input(\"Enter the first number: \"))\n",
        "num2 = int(input(\"Enter the second number: \"))\n",
        "\n",
        "# Calculate and print the HCF\n",
        "result = hcf(num1, num2)\n",
        "print(\"The HCF of\", num1, \"and\", num2, \"is\", result)\n"
      ],
      "metadata": {
        "id": "ypsHufXzR20I",
        "outputId": "b424a679-987c-4ac4-e7df-4e34d2f7ab92",
        "colab": {
          "base_uri": "https://localhost:8080/"
        }
      },
      "id": "ypsHufXzR20I",
      "execution_count": 3,
      "outputs": [
        {
          "output_type": "stream",
          "name": "stdout",
          "text": [
            "Enter the first number: 2\n",
            "Enter the second number: 2\n",
            "The HCF of 2 and 2 is 2\n"
          ]
        }
      ]
    },
    {
      "cell_type": "code",
      "source": [
        "# Ans 3 - \n",
        "decimal = int(input(\"Enter a decimal number: \"))\n",
        "\n",
        "# Convert decimal to binary\n",
        "binary = bin(decimal)[2:]  # Remove the \"0b\" prefix from the binary representation\n",
        "\n",
        "# Convert decimal to octal\n",
        "octal = oct(decimal)[2:]  # Remove the \"0o\" prefix from the octal representation\n",
        "\n",
        "# Convert decimal to hexadecimal\n",
        "hexadecimal = hex(decimal)[2:]  # Remove the \"0x\" prefix from the hexadecimal representation\n",
        "\n",
        "print(\"Binary:\", binary)\n",
        "print(\"Octal:\", octal)\n",
        "print(\"Hexadecimal:\", hexadecimal)\n",
        "\n"
      ],
      "metadata": {
        "id": "QTINHQEVSJ2s",
        "outputId": "5bbefe6d-0266-4831-ceb5-17ba6d7ccc16",
        "colab": {
          "base_uri": "https://localhost:8080/"
        }
      },
      "id": "QTINHQEVSJ2s",
      "execution_count": 5,
      "outputs": [
        {
          "output_type": "stream",
          "name": "stdout",
          "text": [
            "Enter a decimal number: 3\n",
            "Binary: 11\n",
            "Octal: 3\n",
            "Hexadecimal: 3\n"
          ]
        }
      ]
    },
    {
      "cell_type": "code",
      "source": [
        "# Ans 4 - \n",
        "char = input(\"Enter a character: \")\n",
        "\n",
        "# Get the ASCII value using the ord() function\n",
        "ascii_value = ord(char)\n",
        "\n",
        "print(\"The ASCII value of\", char, \"is\", ascii_value)\n"
      ],
      "metadata": {
        "id": "d828NSlmSVtv",
        "outputId": "52853bac-b822-4c7e-c74f-128a9a90bb08",
        "colab": {
          "base_uri": "https://localhost:8080/"
        }
      },
      "id": "d828NSlmSVtv",
      "execution_count": 9,
      "outputs": [
        {
          "output_type": "stream",
          "name": "stdout",
          "text": [
            "Enter a character: A\n",
            "The ASCII value of A is 65\n"
          ]
        }
      ]
    },
    {
      "cell_type": "code",
      "source": [
        "# Ans 5 -\n",
        "def add(num1, num2):\n",
        "    return num1 + num2\n",
        "\n",
        "def subtract(num1, num2):\n",
        "    return num1 - num2\n",
        "\n",
        "def multiply(num1, num2):\n",
        "    return num1 * num2\n",
        "\n",
        "def divide(num1, num2):\n",
        "    return num1 / num2\n",
        "\n",
        "print(\"Select operation:\")\n",
        "print(\"1. Addition\")\n",
        "print(\"2. Subtraction\")\n",
        "print(\"3. Multiplication\")\n",
        "print(\"4. Division\")\n",
        "\n",
        "choice = input(\"Enter choice (1-4): \")\n",
        "\n",
        "num1 = float(input(\"Enter the first number: \"))\n",
        "num2 = float(input(\"Enter the second number: \"))\n",
        "\n",
        "result = 0\n",
        "\n",
        "if choice == '1':\n",
        "    result = add(num1, num2)\n",
        "    operator = '+'\n",
        "elif choice == '2':\n",
        "    result = subtract(num1, num2)\n",
        "    operator = '-'\n",
        "elif choice == '3':\n",
        "    result = multiply(num1, num2)\n",
        "    operator = '*'\n",
        "elif choice == '4':\n",
        "    result = divide(num1, num2)\n",
        "    operator = '/'\n",
        "\n",
        "print(\"Result:\", num1, operator, num2, \"=\", result)\n"
      ],
      "metadata": {
        "id": "jsx6dB48SkAV",
        "outputId": "dcfdbaca-9461-40a1-dd81-7a8bda523a9c",
        "colab": {
          "base_uri": "https://localhost:8080/"
        }
      },
      "id": "jsx6dB48SkAV",
      "execution_count": 10,
      "outputs": [
        {
          "output_type": "stream",
          "name": "stdout",
          "text": [
            "Select operation:\n",
            "1. Addition\n",
            "2. Subtraction\n",
            "3. Multiplication\n",
            "4. Division\n",
            "Enter choice (1-4): 3\n",
            "Enter the first number: 3\n",
            "Enter the second number: 4\n",
            "Result: 3.0 * 4.0 = 12.0\n"
          ]
        }
      ]
    },
    {
      "cell_type": "code",
      "source": [],
      "metadata": {
        "id": "VgAf66-NTHUW"
      },
      "id": "VgAf66-NTHUW",
      "execution_count": null,
      "outputs": []
    }
  ],
  "metadata": {
    "kernelspec": {
      "display_name": "Python 3 (ipykernel)",
      "language": "python",
      "name": "python3"
    },
    "language_info": {
      "codemirror_mode": {
        "name": "ipython",
        "version": 3
      },
      "file_extension": ".py",
      "mimetype": "text/x-python",
      "name": "python",
      "nbconvert_exporter": "python",
      "pygments_lexer": "ipython3",
      "version": "3.9.12"
    },
    "colab": {
      "provenance": []
    }
  },
  "nbformat": 4,
  "nbformat_minor": 5
}