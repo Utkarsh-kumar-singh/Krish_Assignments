{
  "cells": [
    {
      "cell_type": "markdown",
      "id": "84a41a9f",
      "metadata": {
        "id": "84a41a9f"
      },
      "source": [
        "# Programming Basic Assignment 6"
      ]
    },
    {
      "cell_type": "markdown",
      "id": "a4b40558",
      "metadata": {
        "id": "a4b40558"
      },
      "source": [
        "### 1. Write a Python Program to Display Fibonacci Sequence Using Recursion?"
      ]
    },
    {
      "cell_type": "markdown",
      "id": "d7a57f60",
      "metadata": {
        "id": "d7a57f60"
      },
      "source": [
        "### 2. Write a Python Program to Find Factorial of Number Using Recursion?"
      ]
    },
    {
      "cell_type": "markdown",
      "id": "0357b86f",
      "metadata": {
        "id": "0357b86f"
      },
      "source": [
        "### 3. Write a Python Program to calculate your Body Mass Index?"
      ]
    },
    {
      "cell_type": "markdown",
      "id": "96d344a4",
      "metadata": {
        "id": "96d344a4"
      },
      "source": [
        "### 4. Write a Python Program to calculate the natural logarithm of any number?"
      ]
    },
    {
      "cell_type": "markdown",
      "id": "11c0d92c",
      "metadata": {
        "id": "11c0d92c"
      },
      "source": [
        "\n",
        "### 5. Write a Python Program for cube sum of first n natural numbers?\n"
      ]
    },
    {
      "cell_type": "code",
      "source": [
        "# Ans 1 - \n",
        "def fibonacci(n):\n",
        "    if n <= 0:\n",
        "        return []\n",
        "    elif n == 1:\n",
        "        return [0]\n",
        "    elif n == 2:\n",
        "        return [0, 1]\n",
        "    else:\n",
        "        sequence = fibonacci(n - 1)\n",
        "        sequence.append(sequence[-1] + sequence[-2])\n",
        "        return sequence\n",
        "\n",
        "# Take input from the user\n",
        "terms = int(input(\"Enter the number of terms in the Fibonacci sequence: \"))\n",
        "\n",
        "# Calculate and print the Fibonacci sequence\n",
        "fib_sequence = fibonacci(terms)\n",
        "print(\"Fibonacci Sequence:\")\n",
        "for num in fib_sequence:\n",
        "    print(num)\n"
      ],
      "metadata": {
        "id": "BFKJaI-JUg2D",
        "outputId": "f1fa6eb6-adfa-493e-fe03-93c4aa1a7790",
        "colab": {
          "base_uri": "https://localhost:8080/"
        }
      },
      "id": "BFKJaI-JUg2D",
      "execution_count": 1,
      "outputs": [
        {
          "output_type": "stream",
          "name": "stdout",
          "text": [
            "Enter the number of terms in the Fibonacci sequence: 2\n",
            "Fibonacci Sequence:\n",
            "0\n",
            "1\n"
          ]
        }
      ]
    },
    {
      "cell_type": "code",
      "source": [
        "# Ans 2 -\n",
        "def factorial(n):\n",
        "    if n == 0 or n == 1:\n",
        "        return 1\n",
        "    else:\n",
        "        return n * factorial(n - 1)\n",
        "\n",
        "# Take input from the user\n",
        "number = int(input(\"Enter a number: \"))\n",
        "\n",
        "# Calculate and print the factorial\n",
        "result = factorial(number)\n",
        "print(\"The factorial of\", number, \"is\", result)\n"
      ],
      "metadata": {
        "id": "unkssr4citZR",
        "outputId": "f4ad1196-76d7-42a4-de02-d4ddc6787aa5",
        "colab": {
          "base_uri": "https://localhost:8080/"
        }
      },
      "id": "unkssr4citZR",
      "execution_count": 2,
      "outputs": [
        {
          "output_type": "stream",
          "name": "stdout",
          "text": [
            "Enter a number: 5\n",
            "The factorial of 5 is 120\n"
          ]
        }
      ]
    },
    {
      "cell_type": "code",
      "source": [
        "# Ans 3 -\n",
        "def calculate_bmi(weight, height):\n",
        "    # Calculate BMI using the formula: weight (kg) / (height (m) ** 2)\n",
        "    bmi = weight / (height ** 2)\n",
        "    return bmi\n",
        "\n",
        "# Take input from the user\n",
        "weight = float(input(\"Enter your weight in kilograms: \"))\n",
        "height = float(input(\"Enter your height in meters: \"))\n",
        "\n",
        "# Calculate BMI\n",
        "bmi = calculate_bmi(weight, height)\n",
        "\n",
        "# Print the BMI\n",
        "print(\"Your Body Mass Index (BMI) is:\", bmi)\n"
      ],
      "metadata": {
        "id": "oXYRiB_ti6a9",
        "outputId": "945790ac-ab52-4f87-fa37-ae317eaedca4",
        "colab": {
          "base_uri": "https://localhost:8080/"
        }
      },
      "id": "oXYRiB_ti6a9",
      "execution_count": 3,
      "outputs": [
        {
          "output_type": "stream",
          "name": "stdout",
          "text": [
            "Enter your weight in kilograms: 23\n",
            "Enter your height in meters: 23\n",
            "Your Body Mass Index (BMI) is: 0.043478260869565216\n"
          ]
        }
      ]
    },
    {
      "cell_type": "code",
      "source": [
        "# Ans 5 -\n",
        "\n",
        "import math\n",
        "\n",
        "# Take input from the user\n",
        "number = float(input(\"Enter a number: \"))\n",
        "\n",
        "# Calculate the natural logarithm\n",
        "ln = math.log(number)\n",
        "\n",
        "# Print the result\n",
        "print(\"The natural logarithm of\", number, \"is\", ln)\n"
      ],
      "metadata": {
        "id": "eZgsC8QtjF1x",
        "outputId": "2baf088d-3579-4a21-8186-f46bf4010d11",
        "colab": {
          "base_uri": "https://localhost:8080/"
        }
      },
      "id": "eZgsC8QtjF1x",
      "execution_count": 4,
      "outputs": [
        {
          "output_type": "stream",
          "name": "stdout",
          "text": [
            "Enter a number: 3\n",
            "The natural logarithm of 3.0 is 1.0986122886681098\n"
          ]
        }
      ]
    },
    {
      "cell_type": "code",
      "source": [
        "# Ans 5 -\n",
        "def cube_sum(n):\n",
        "    # Calculate the cube sum using the formula: (n * (n + 1) / 2) ** 2\n",
        "    cube_sum = (n * (n + 1) // 2) ** 2\n",
        "    return cube_sum\n",
        "\n",
        "# Take input from the user\n",
        "n = int(input(\"Enter the value of n: \"))\n",
        "\n",
        "# Calculate the cube sum\n",
        "result = cube_sum(n)\n",
        "\n",
        "# Print the result\n",
        "print(\"The cube sum of the first\", n, \"natural numbers is\", result)\n"
      ],
      "metadata": {
        "id": "85X1VkUijTnH",
        "outputId": "3a81bea6-7c19-494d-a55a-a8f0b9db5013",
        "colab": {
          "base_uri": "https://localhost:8080/"
        }
      },
      "id": "85X1VkUijTnH",
      "execution_count": 5,
      "outputs": [
        {
          "output_type": "stream",
          "name": "stdout",
          "text": [
            "Enter the value of n: 3\n",
            "The cube sum of the first 3 natural numbers is 36\n"
          ]
        }
      ]
    },
    {
      "cell_type": "code",
      "source": [],
      "metadata": {
        "id": "PRbF0PJnjdYh"
      },
      "id": "PRbF0PJnjdYh",
      "execution_count": null,
      "outputs": []
    }
  ],
  "metadata": {
    "kernelspec": {
      "display_name": "Python 3 (ipykernel)",
      "language": "python",
      "name": "python3"
    },
    "language_info": {
      "codemirror_mode": {
        "name": "ipython",
        "version": 3
      },
      "file_extension": ".py",
      "mimetype": "text/x-python",
      "name": "python",
      "nbconvert_exporter": "python",
      "pygments_lexer": "ipython3",
      "version": "3.9.12"
    },
    "colab": {
      "provenance": []
    }
  },
  "nbformat": 4,
  "nbformat_minor": 5
}